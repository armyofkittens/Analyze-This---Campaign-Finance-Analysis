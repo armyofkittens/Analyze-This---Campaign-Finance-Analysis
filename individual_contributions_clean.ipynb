{
 "cells": [
  {
   "cell_type": "code",
   "execution_count": 1,
   "id": "c4c22154",
   "metadata": {},
   "outputs": [],
   "source": [
    "import pandas as pd"
   ]
  },
  {
   "cell_type": "code",
   "execution_count": 2,
   "id": "6be1189c",
   "metadata": {},
   "outputs": [
    {
     "name": "stderr",
     "output_type": "stream",
     "text": [
      "/Users/marshallmiley/opt/anaconda3/envs/mlenv/lib/python3.7/site-packages/IPython/core/interactiveshell.py:3457: DtypeWarning: Columns (2,11,14,20,21,22,23) have mixed types.Specify dtype option on import or set low_memory=False.\n",
      "  exec(code_obj, self.user_global_ns, self.user_ns)\n"
     ]
    },
    {
     "data": {
      "text/html": [
       "<div>\n",
       "<style scoped>\n",
       "    .dataframe tbody tr th:only-of-type {\n",
       "        vertical-align: middle;\n",
       "    }\n",
       "\n",
       "    .dataframe tbody tr th {\n",
       "        vertical-align: top;\n",
       "    }\n",
       "\n",
       "    .dataframe thead th {\n",
       "        text-align: right;\n",
       "    }\n",
       "</style>\n",
       "<table border=\"1\" class=\"dataframe\">\n",
       "  <thead>\n",
       "    <tr style=\"text-align: right;\">\n",
       "      <th></th>\n",
       "      <th>id</th>\n",
       "      <th>cycle</th>\n",
       "      <th>fec_trans_id</th>\n",
       "      <th>contributor_id</th>\n",
       "      <th>contributor_name</th>\n",
       "      <th>recipient_id</th>\n",
       "      <th>org_name</th>\n",
       "      <th>ult_org</th>\n",
       "      <th>real_code</th>\n",
       "      <th>date</th>\n",
       "      <th>...</th>\n",
       "      <th>recip_code</th>\n",
       "      <th>type</th>\n",
       "      <th>committee_id</th>\n",
       "      <th>other_id</th>\n",
       "      <th>gender</th>\n",
       "      <th>old_format_employer_occupation</th>\n",
       "      <th>microfilm</th>\n",
       "      <th>occupation</th>\n",
       "      <th>employer</th>\n",
       "      <th>source</th>\n",
       "    </tr>\n",
       "  </thead>\n",
       "  <tbody>\n",
       "    <tr>\n",
       "      <th>0</th>\n",
       "      <td>1</td>\n",
       "      <td>2010</td>\n",
       "      <td>1010420120009248286</td>\n",
       "      <td>k00019100751</td>\n",
       "      <td>William G Crook</td>\n",
       "      <td>N00009638</td>\n",
       "      <td>Self-Employed</td>\n",
       "      <td>NaN</td>\n",
       "      <td>G0000</td>\n",
       "      <td>2011-03-01 00:00:00</td>\n",
       "      <td>...</td>\n",
       "      <td>DI</td>\n",
       "      <td>15</td>\n",
       "      <td>C00431445</td>\n",
       "      <td></td>\n",
       "      <td></td>\n",
       "      <td>NaN</td>\n",
       "      <td>11931873404.0</td>\n",
       "      <td>SELF</td>\n",
       "      <td>SELF</td>\n",
       "      <td>GEN</td>\n",
       "    </tr>\n",
       "    <tr>\n",
       "      <th>1</th>\n",
       "      <td>2</td>\n",
       "      <td>2012</td>\n",
       "      <td>1010120130011206490</td>\n",
       "      <td>k0001544935</td>\n",
       "      <td>JONES, BERNHARDT N</td>\n",
       "      <td>C00042366</td>\n",
       "      <td>Retired</td>\n",
       "      <td>NaN</td>\n",
       "      <td>X1200</td>\n",
       "      <td>2012-10-05 00:00:00</td>\n",
       "      <td>...</td>\n",
       "      <td>DP</td>\n",
       "      <td>15</td>\n",
       "      <td>C00042366</td>\n",
       "      <td>NaN</td>\n",
       "      <td>N</td>\n",
       "      <td>NaN</td>\n",
       "      <td>12021033713.0</td>\n",
       "      <td>RETIRED</td>\n",
       "      <td>NaN</td>\n",
       "      <td>Gen</td>\n",
       "    </tr>\n",
       "    <tr>\n",
       "      <th>2</th>\n",
       "      <td>3</td>\n",
       "      <td>2012</td>\n",
       "      <td>1010120130011206620</td>\n",
       "      <td>h30019228431</td>\n",
       "      <td>YAGGY, DUNCAN</td>\n",
       "      <td>C00042366</td>\n",
       "      <td>Yaggy Corp</td>\n",
       "      <td>NaN</td>\n",
       "      <td>Y4000</td>\n",
       "      <td>2012-10-16 00:00:00</td>\n",
       "      <td>...</td>\n",
       "      <td>DP</td>\n",
       "      <td>15E</td>\n",
       "      <td>C00042366</td>\n",
       "      <td>C00401224</td>\n",
       "      <td>M</td>\n",
       "      <td>NaN</td>\n",
       "      <td>12021053305.0</td>\n",
       "      <td>MANAGER</td>\n",
       "      <td>YAGGY CORPORATION</td>\n",
       "      <td></td>\n",
       "    </tr>\n",
       "    <tr>\n",
       "      <th>3</th>\n",
       "      <td>4</td>\n",
       "      <td>2012</td>\n",
       "      <td>1010120130011206706</td>\n",
       "      <td>i3003429059</td>\n",
       "      <td>KELETI, STEVEN</td>\n",
       "      <td>C00042366</td>\n",
       "      <td>Judge Technical Services</td>\n",
       "      <td>NaN</td>\n",
       "      <td>Y4000</td>\n",
       "      <td>2012-10-17 00:00:00</td>\n",
       "      <td>...</td>\n",
       "      <td>DP</td>\n",
       "      <td>15E</td>\n",
       "      <td>C00042366</td>\n",
       "      <td>C00401224</td>\n",
       "      <td>M</td>\n",
       "      <td>NaN</td>\n",
       "      <td>12021044111.0</td>\n",
       "      <td>ENGINEER</td>\n",
       "      <td>JUDGE TECHNICAL SERVICES</td>\n",
       "      <td></td>\n",
       "    </tr>\n",
       "    <tr>\n",
       "      <th>4</th>\n",
       "      <td>5</td>\n",
       "      <td>2012</td>\n",
       "      <td>1010120130011206819</td>\n",
       "      <td>m0002167975@</td>\n",
       "      <td>HAWTHORNE, JOAN</td>\n",
       "      <td>C00042366</td>\n",
       "      <td>University of North Dakota</td>\n",
       "      <td>NaN</td>\n",
       "      <td>H5100</td>\n",
       "      <td>2012-10-11 00:00:00</td>\n",
       "      <td>...</td>\n",
       "      <td>DP</td>\n",
       "      <td>15E</td>\n",
       "      <td>C00042366</td>\n",
       "      <td>C00401224</td>\n",
       "      <td>F</td>\n",
       "      <td>NaN</td>\n",
       "      <td>12021043352.0</td>\n",
       "      <td>EDUCATOR</td>\n",
       "      <td>UNIVERSITY OF NORTH DAKOTA</td>\n",
       "      <td>Name</td>\n",
       "    </tr>\n",
       "  </tbody>\n",
       "</table>\n",
       "<p>5 rows × 25 columns</p>\n",
       "</div>"
      ],
      "text/plain": [
       "   id  cycle         fec_trans_id contributor_id    contributor_name  \\\n",
       "0   1   2010  1010420120009248286   k00019100751     William G Crook   \n",
       "1   2   2012  1010120130011206490   k0001544935   JONES, BERNHARDT N   \n",
       "2   3   2012  1010120130011206620   h30019228431       YAGGY, DUNCAN   \n",
       "3   4   2012  1010120130011206706   i3003429059       KELETI, STEVEN   \n",
       "4   5   2012  1010120130011206819   m0002167975@     HAWTHORNE, JOAN   \n",
       "\n",
       "  recipient_id                    org_name ult_org real_code  \\\n",
       "0    N00009638               Self-Employed     NaN     G0000   \n",
       "1    C00042366                     Retired     NaN     X1200   \n",
       "2    C00042366                  Yaggy Corp     NaN     Y4000   \n",
       "3    C00042366    Judge Technical Services     NaN     Y4000   \n",
       "4    C00042366  University of North Dakota     NaN     H5100   \n",
       "\n",
       "                  date  ...  recip_code type committee_id   other_id gender  \\\n",
       "0  2011-03-01 00:00:00  ...          DI  15     C00431445                     \n",
       "1  2012-10-05 00:00:00  ...          DP  15     C00042366        NaN      N   \n",
       "2  2012-10-16 00:00:00  ...          DP  15E    C00042366  C00401224      M   \n",
       "3  2012-10-17 00:00:00  ...          DP  15E    C00042366  C00401224      M   \n",
       "4  2012-10-11 00:00:00  ...          DP  15E    C00042366  C00401224      F   \n",
       "\n",
       "  old_format_employer_occupation      microfilm occupation  \\\n",
       "0                            NaN  11931873404.0       SELF   \n",
       "1                            NaN  12021033713.0    RETIRED   \n",
       "2                            NaN  12021053305.0    MANAGER   \n",
       "3                            NaN  12021044111.0   ENGINEER   \n",
       "4                            NaN  12021043352.0   EDUCATOR   \n",
       "\n",
       "                     employer source  \n",
       "0                        SELF  GEN    \n",
       "1                         NaN  Gen    \n",
       "2           YAGGY CORPORATION         \n",
       "3    JUDGE TECHNICAL SERVICES         \n",
       "4  UNIVERSITY OF NORTH DAKOTA  Name   \n",
       "\n",
       "[5 rows x 25 columns]"
      ]
     },
     "execution_count": 2,
     "metadata": {},
     "output_type": "execute_result"
    }
   ],
   "source": [
    "df = pd.read_csv('data/individual_contributions.csv')\n",
    "df.head()"
   ]
  },
  {
   "cell_type": "code",
   "execution_count": 3,
   "id": "9baf5add",
   "metadata": {},
   "outputs": [
    {
     "data": {
      "text/plain": [
       "id                                       0\n",
       "cycle                                    0\n",
       "fec_trans_id                             0\n",
       "contributor_id                           0\n",
       "contributor_name                     39801\n",
       "recipient_id                           861\n",
       "org_name                           5198240\n",
       "ult_org                           23814368\n",
       "real_code                                2\n",
       "date                                   504\n",
       "amount                                   0\n",
       "street                            13170743\n",
       "city                                185887\n",
       "state                                 4945\n",
       "zip                                  11472\n",
       "recip_code                             936\n",
       "type                                     0\n",
       "committee_id                             0\n",
       "other_id                          23225801\n",
       "gender                              185025\n",
       "old_format_employer_occupation     8897251\n",
       "microfilm                          1038626\n",
       "occupation                        12306818\n",
       "employer                          13024949\n",
       "source                             2404188\n",
       "dtype: int64"
      ]
     },
     "execution_count": 3,
     "metadata": {},
     "output_type": "execute_result"
    }
   ],
   "source": [
    "df.isnull().sum()"
   ]
  },
  {
   "cell_type": "code",
   "execution_count": 4,
   "id": "178a9c27",
   "metadata": {},
   "outputs": [
    {
     "name": "stdout",
     "output_type": "stream",
     "text": [
      "<class 'pandas.core.frame.DataFrame'>\n",
      "RangeIndex: 24446378 entries, 0 to 24446377\n",
      "Data columns (total 25 columns):\n",
      " #   Column                          Dtype \n",
      "---  ------                          ----- \n",
      " 0   id                              int64 \n",
      " 1   cycle                           int64 \n",
      " 2   fec_trans_id                    object\n",
      " 3   contributor_id                  object\n",
      " 4   contributor_name                object\n",
      " 5   recipient_id                    object\n",
      " 6   org_name                        object\n",
      " 7   ult_org                         object\n",
      " 8   real_code                       object\n",
      " 9   date                            object\n",
      " 10  amount                          int64 \n",
      " 11  street                          object\n",
      " 12  city                            object\n",
      " 13  state                           object\n",
      " 14  zip                             object\n",
      " 15  recip_code                      object\n",
      " 16  type                            object\n",
      " 17  committee_id                    object\n",
      " 18  other_id                        object\n",
      " 19  gender                          object\n",
      " 20  old_format_employer_occupation  object\n",
      " 21  microfilm                       object\n",
      " 22  occupation                      object\n",
      " 23  employer                        object\n",
      " 24  source                          object\n",
      "dtypes: int64(3), object(22)\n",
      "memory usage: 4.6+ GB\n"
     ]
    }
   ],
   "source": [
    "df.info()"
   ]
  },
  {
   "cell_type": "code",
   "execution_count": 14,
   "id": "6318efce",
   "metadata": {},
   "outputs": [],
   "source": [
    "df_indcont = df[['contributor_id', 'contributor_name', 'org_name', 'recipient_id', 'recip_code', 'gender', 'amount']]"
   ]
  },
  {
   "cell_type": "code",
   "execution_count": 12,
   "id": "e9345209",
   "metadata": {},
   "outputs": [
    {
     "data": {
      "text/plain": [
       "Index(['id', 'cycle', 'fec_trans_id', 'contributor_id', 'contributor_name',\n",
       "       'recipient_id', 'org_name', 'ult_org', 'real_code', 'date', 'amount',\n",
       "       'street', 'city', 'state', 'zip', 'recip_code', 'type', 'committee_id',\n",
       "       'other_id', 'gender', 'old_format_employer_occupation', 'microfilm',\n",
       "       'occupation', 'employer', 'source'],\n",
       "      dtype='object')"
      ]
     },
     "execution_count": 12,
     "metadata": {},
     "output_type": "execute_result"
    }
   ],
   "source": [
    "df.columns"
   ]
  },
  {
   "cell_type": "code",
   "execution_count": 15,
   "id": "0c885a48",
   "metadata": {},
   "outputs": [
    {
     "data": {
      "text/html": [
       "<div>\n",
       "<style scoped>\n",
       "    .dataframe tbody tr th:only-of-type {\n",
       "        vertical-align: middle;\n",
       "    }\n",
       "\n",
       "    .dataframe tbody tr th {\n",
       "        vertical-align: top;\n",
       "    }\n",
       "\n",
       "    .dataframe thead th {\n",
       "        text-align: right;\n",
       "    }\n",
       "</style>\n",
       "<table border=\"1\" class=\"dataframe\">\n",
       "  <thead>\n",
       "    <tr style=\"text-align: right;\">\n",
       "      <th></th>\n",
       "      <th>contributor_id</th>\n",
       "      <th>contributor_name</th>\n",
       "      <th>org_name</th>\n",
       "      <th>recipient_id</th>\n",
       "      <th>recip_code</th>\n",
       "      <th>gender</th>\n",
       "      <th>amount</th>\n",
       "    </tr>\n",
       "  </thead>\n",
       "  <tbody>\n",
       "    <tr>\n",
       "      <th>0</th>\n",
       "      <td>k00019100751</td>\n",
       "      <td>William G Crook</td>\n",
       "      <td>Self-Employed</td>\n",
       "      <td>N00009638</td>\n",
       "      <td>DI</td>\n",
       "      <td></td>\n",
       "      <td>200</td>\n",
       "    </tr>\n",
       "    <tr>\n",
       "      <th>1</th>\n",
       "      <td>k0001544935</td>\n",
       "      <td>JONES, BERNHARDT N</td>\n",
       "      <td>Retired</td>\n",
       "      <td>C00042366</td>\n",
       "      <td>DP</td>\n",
       "      <td>N</td>\n",
       "      <td>250</td>\n",
       "    </tr>\n",
       "    <tr>\n",
       "      <th>2</th>\n",
       "      <td>h30019228431</td>\n",
       "      <td>YAGGY, DUNCAN</td>\n",
       "      <td>Yaggy Corp</td>\n",
       "      <td>C00042366</td>\n",
       "      <td>DP</td>\n",
       "      <td>M</td>\n",
       "      <td>500</td>\n",
       "    </tr>\n",
       "    <tr>\n",
       "      <th>3</th>\n",
       "      <td>i3003429059</td>\n",
       "      <td>KELETI, STEVEN</td>\n",
       "      <td>Judge Technical Services</td>\n",
       "      <td>C00042366</td>\n",
       "      <td>DP</td>\n",
       "      <td>M</td>\n",
       "      <td>1000</td>\n",
       "    </tr>\n",
       "    <tr>\n",
       "      <th>4</th>\n",
       "      <td>m0002167975@</td>\n",
       "      <td>HAWTHORNE, JOAN</td>\n",
       "      <td>University of North Dakota</td>\n",
       "      <td>C00042366</td>\n",
       "      <td>DP</td>\n",
       "      <td>F</td>\n",
       "      <td>500</td>\n",
       "    </tr>\n",
       "  </tbody>\n",
       "</table>\n",
       "</div>"
      ],
      "text/plain": [
       "  contributor_id    contributor_name                    org_name recipient_id  \\\n",
       "0   k00019100751     William G Crook               Self-Employed    N00009638   \n",
       "1   k0001544935   JONES, BERNHARDT N                     Retired    C00042366   \n",
       "2   h30019228431       YAGGY, DUNCAN                  Yaggy Corp    C00042366   \n",
       "3   i3003429059       KELETI, STEVEN    Judge Technical Services    C00042366   \n",
       "4   m0002167975@     HAWTHORNE, JOAN  University of North Dakota    C00042366   \n",
       "\n",
       "  recip_code gender  amount  \n",
       "0         DI            200  \n",
       "1         DP      N     250  \n",
       "2         DP      M     500  \n",
       "3         DP      M    1000  \n",
       "4         DP      F     500  "
      ]
     },
     "execution_count": 15,
     "metadata": {},
     "output_type": "execute_result"
    }
   ],
   "source": [
    "df_indcont.head()"
   ]
  },
  {
   "cell_type": "code",
   "execution_count": 7,
   "id": "b551a37a",
   "metadata": {},
   "outputs": [
    {
     "data": {
      "text/plain": [
       "id                                 int64\n",
       "cycle                              int64\n",
       "fec_trans_id                      object\n",
       "contributor_id                    object\n",
       "contributor_name                  object\n",
       "recipient_id                      object\n",
       "org_name                          object\n",
       "ult_org                           object\n",
       "real_code                         object\n",
       "date                              object\n",
       "amount                             int64\n",
       "street                            object\n",
       "city                              object\n",
       "state                             object\n",
       "zip                               object\n",
       "recip_code                        object\n",
       "type                              object\n",
       "committee_id                      object\n",
       "other_id                          object\n",
       "gender                            object\n",
       "old_format_employer_occupation    object\n",
       "microfilm                         object\n",
       "occupation                        object\n",
       "employer                          object\n",
       "source                            object\n",
       "dtype: object"
      ]
     },
     "execution_count": 7,
     "metadata": {},
     "output_type": "execute_result"
    }
   ],
   "source": [
    "df.dtypes"
   ]
  },
  {
   "cell_type": "code",
   "execution_count": 18,
   "id": "a19a6aa6",
   "metadata": {},
   "outputs": [],
   "source": [
    "df_indcont = df_indcont.dropna(subset=['recipient_id'])"
   ]
  },
  {
   "cell_type": "code",
   "execution_count": 19,
   "id": "1e932520",
   "metadata": {},
   "outputs": [
    {
     "data": {
      "text/plain": [
       "contributor_id            0\n",
       "contributor_name      39800\n",
       "org_name            5198219\n",
       "recipient_id              0\n",
       "recip_code               75\n",
       "gender               184810\n",
       "amount                    0\n",
       "dtype: int64"
      ]
     },
     "execution_count": 19,
     "metadata": {},
     "output_type": "execute_result"
    }
   ],
   "source": [
    "df_indcont.isnull().sum()"
   ]
  },
  {
   "cell_type": "code",
   "execution_count": 20,
   "id": "e6729229",
   "metadata": {},
   "outputs": [
    {
     "name": "stderr",
     "output_type": "stream",
     "text": [
      "/Users/marshallmiley/opt/anaconda3/envs/mlenv/lib/python3.7/site-packages/pandas/core/frame.py:5182: SettingWithCopyWarning: \n",
      "A value is trying to be set on a copy of a slice from a DataFrame\n",
      "\n",
      "See the caveats in the documentation: https://pandas.pydata.org/pandas-docs/stable/user_guide/indexing.html#returning-a-view-versus-a-copy\n",
      "  downcast=downcast,\n"
     ]
    }
   ],
   "source": [
    "df_indcont.fillna('', inplace=True)"
   ]
  },
  {
   "cell_type": "code",
   "execution_count": 21,
   "id": "bd645376",
   "metadata": {},
   "outputs": [
    {
     "data": {
      "text/plain": [
       "contributor_id      0\n",
       "contributor_name    0\n",
       "org_name            0\n",
       "recipient_id        0\n",
       "recip_code          0\n",
       "gender              0\n",
       "amount              0\n",
       "dtype: int64"
      ]
     },
     "execution_count": 21,
     "metadata": {},
     "output_type": "execute_result"
    }
   ],
   "source": [
    "df_indcont.isnull().sum()"
   ]
  },
  {
   "cell_type": "code",
   "execution_count": 22,
   "id": "06702fdd",
   "metadata": {},
   "outputs": [
    {
     "data": {
      "text/html": [
       "<div>\n",
       "<style scoped>\n",
       "    .dataframe tbody tr th:only-of-type {\n",
       "        vertical-align: middle;\n",
       "    }\n",
       "\n",
       "    .dataframe tbody tr th {\n",
       "        vertical-align: top;\n",
       "    }\n",
       "\n",
       "    .dataframe thead th {\n",
       "        text-align: right;\n",
       "    }\n",
       "</style>\n",
       "<table border=\"1\" class=\"dataframe\">\n",
       "  <thead>\n",
       "    <tr style=\"text-align: right;\">\n",
       "      <th></th>\n",
       "      <th>contributor_id</th>\n",
       "      <th>contributor_name</th>\n",
       "      <th>org_name</th>\n",
       "      <th>recipient_id</th>\n",
       "      <th>recip_code</th>\n",
       "      <th>gender</th>\n",
       "      <th>amount</th>\n",
       "    </tr>\n",
       "  </thead>\n",
       "  <tbody>\n",
       "    <tr>\n",
       "      <th>0</th>\n",
       "      <td>k00019100751</td>\n",
       "      <td>William G Crook</td>\n",
       "      <td>Self-Employed</td>\n",
       "      <td>N00009638</td>\n",
       "      <td>DI</td>\n",
       "      <td></td>\n",
       "      <td>200</td>\n",
       "    </tr>\n",
       "    <tr>\n",
       "      <th>1</th>\n",
       "      <td>k0001544935</td>\n",
       "      <td>JONES, BERNHARDT N</td>\n",
       "      <td>Retired</td>\n",
       "      <td>C00042366</td>\n",
       "      <td>DP</td>\n",
       "      <td>N</td>\n",
       "      <td>250</td>\n",
       "    </tr>\n",
       "    <tr>\n",
       "      <th>2</th>\n",
       "      <td>h30019228431</td>\n",
       "      <td>YAGGY, DUNCAN</td>\n",
       "      <td>Yaggy Corp</td>\n",
       "      <td>C00042366</td>\n",
       "      <td>DP</td>\n",
       "      <td>M</td>\n",
       "      <td>500</td>\n",
       "    </tr>\n",
       "    <tr>\n",
       "      <th>3</th>\n",
       "      <td>i3003429059</td>\n",
       "      <td>KELETI, STEVEN</td>\n",
       "      <td>Judge Technical Services</td>\n",
       "      <td>C00042366</td>\n",
       "      <td>DP</td>\n",
       "      <td>M</td>\n",
       "      <td>1000</td>\n",
       "    </tr>\n",
       "    <tr>\n",
       "      <th>4</th>\n",
       "      <td>m0002167975@</td>\n",
       "      <td>HAWTHORNE, JOAN</td>\n",
       "      <td>University of North Dakota</td>\n",
       "      <td>C00042366</td>\n",
       "      <td>DP</td>\n",
       "      <td>F</td>\n",
       "      <td>500</td>\n",
       "    </tr>\n",
       "  </tbody>\n",
       "</table>\n",
       "</div>"
      ],
      "text/plain": [
       "  contributor_id    contributor_name                    org_name recipient_id  \\\n",
       "0   k00019100751     William G Crook               Self-Employed    N00009638   \n",
       "1   k0001544935   JONES, BERNHARDT N                     Retired    C00042366   \n",
       "2   h30019228431       YAGGY, DUNCAN                  Yaggy Corp    C00042366   \n",
       "3   i3003429059       KELETI, STEVEN    Judge Technical Services    C00042366   \n",
       "4   m0002167975@     HAWTHORNE, JOAN  University of North Dakota    C00042366   \n",
       "\n",
       "  recip_code gender  amount  \n",
       "0         DI            200  \n",
       "1         DP      N     250  \n",
       "2         DP      M     500  \n",
       "3         DP      M    1000  \n",
       "4         DP      F     500  "
      ]
     },
     "execution_count": 22,
     "metadata": {},
     "output_type": "execute_result"
    }
   ],
   "source": [
    "df_indcont.head()"
   ]
  },
  {
   "cell_type": "code",
   "execution_count": 26,
   "id": "011130b2",
   "metadata": {},
   "outputs": [
    {
     "data": {
      "text/plain": [
       "4301438"
      ]
     },
     "execution_count": 26,
     "metadata": {},
     "output_type": "execute_result"
    }
   ],
   "source": [
    "df_indcont.duplicated().sum()"
   ]
  },
  {
   "cell_type": "code",
   "execution_count": 30,
   "id": "5af35d3c",
   "metadata": {},
   "outputs": [
    {
     "data": {
      "text/plain": [
       "contributor_id      24445517\n",
       "contributor_name    24445517\n",
       "org_name            24445517\n",
       "recipient_id        24445517\n",
       "recip_code          24445517\n",
       "gender              24445517\n",
       "amount              24445517\n",
       "dtype: int64"
      ]
     },
     "execution_count": 30,
     "metadata": {},
     "output_type": "execute_result"
    }
   ],
   "source": [
    "df_indcont.count()"
   ]
  },
  {
   "cell_type": "code",
   "execution_count": 33,
   "id": "8c6b795c",
   "metadata": {},
   "outputs": [],
   "source": [
    "df_indcont = df_indcont.drop_duplicates()"
   ]
  },
  {
   "cell_type": "code",
   "execution_count": 34,
   "id": "8a089a41",
   "metadata": {},
   "outputs": [
    {
     "data": {
      "text/plain": [
       "0"
      ]
     },
     "execution_count": 34,
     "metadata": {},
     "output_type": "execute_result"
    }
   ],
   "source": [
    "df_indcont.duplicated().sum()"
   ]
  },
  {
   "cell_type": "code",
   "execution_count": 35,
   "id": "f74de718",
   "metadata": {},
   "outputs": [],
   "source": [
    "df_indcont.to_csv('data/individual_contributions_clean.csv')"
   ]
  },
  {
   "cell_type": "code",
   "execution_count": 36,
   "id": "1337ad64",
   "metadata": {},
   "outputs": [
    {
     "data": {
      "text/html": [
       "<div>\n",
       "<style scoped>\n",
       "    .dataframe tbody tr th:only-of-type {\n",
       "        vertical-align: middle;\n",
       "    }\n",
       "\n",
       "    .dataframe tbody tr th {\n",
       "        vertical-align: top;\n",
       "    }\n",
       "\n",
       "    .dataframe thead th {\n",
       "        text-align: right;\n",
       "    }\n",
       "</style>\n",
       "<table border=\"1\" class=\"dataframe\">\n",
       "  <thead>\n",
       "    <tr style=\"text-align: right;\">\n",
       "      <th></th>\n",
       "      <th>contributor_id</th>\n",
       "      <th>contributor_name</th>\n",
       "      <th>org_name</th>\n",
       "      <th>recipient_id</th>\n",
       "      <th>recip_code</th>\n",
       "      <th>gender</th>\n",
       "      <th>amount</th>\n",
       "    </tr>\n",
       "  </thead>\n",
       "  <tbody>\n",
       "    <tr>\n",
       "      <th>0</th>\n",
       "      <td>k00019100751</td>\n",
       "      <td>William G Crook</td>\n",
       "      <td>Self-Employed</td>\n",
       "      <td>N00009638</td>\n",
       "      <td>DI</td>\n",
       "      <td></td>\n",
       "      <td>200</td>\n",
       "    </tr>\n",
       "    <tr>\n",
       "      <th>1</th>\n",
       "      <td>k0001544935</td>\n",
       "      <td>JONES, BERNHARDT N</td>\n",
       "      <td>Retired</td>\n",
       "      <td>C00042366</td>\n",
       "      <td>DP</td>\n",
       "      <td>N</td>\n",
       "      <td>250</td>\n",
       "    </tr>\n",
       "    <tr>\n",
       "      <th>2</th>\n",
       "      <td>h30019228431</td>\n",
       "      <td>YAGGY, DUNCAN</td>\n",
       "      <td>Yaggy Corp</td>\n",
       "      <td>C00042366</td>\n",
       "      <td>DP</td>\n",
       "      <td>M</td>\n",
       "      <td>500</td>\n",
       "    </tr>\n",
       "    <tr>\n",
       "      <th>3</th>\n",
       "      <td>i3003429059</td>\n",
       "      <td>KELETI, STEVEN</td>\n",
       "      <td>Judge Technical Services</td>\n",
       "      <td>C00042366</td>\n",
       "      <td>DP</td>\n",
       "      <td>M</td>\n",
       "      <td>1000</td>\n",
       "    </tr>\n",
       "    <tr>\n",
       "      <th>4</th>\n",
       "      <td>m0002167975@</td>\n",
       "      <td>HAWTHORNE, JOAN</td>\n",
       "      <td>University of North Dakota</td>\n",
       "      <td>C00042366</td>\n",
       "      <td>DP</td>\n",
       "      <td>F</td>\n",
       "      <td>500</td>\n",
       "    </tr>\n",
       "  </tbody>\n",
       "</table>\n",
       "</div>"
      ],
      "text/plain": [
       "  contributor_id    contributor_name                    org_name recipient_id  \\\n",
       "0   k00019100751     William G Crook               Self-Employed    N00009638   \n",
       "1   k0001544935   JONES, BERNHARDT N                     Retired    C00042366   \n",
       "2   h30019228431       YAGGY, DUNCAN                  Yaggy Corp    C00042366   \n",
       "3   i3003429059       KELETI, STEVEN    Judge Technical Services    C00042366   \n",
       "4   m0002167975@     HAWTHORNE, JOAN  University of North Dakota    C00042366   \n",
       "\n",
       "  recip_code gender  amount  \n",
       "0         DI            200  \n",
       "1         DP      N     250  \n",
       "2         DP      M     500  \n",
       "3         DP      M    1000  \n",
       "4         DP      F     500  "
      ]
     },
     "execution_count": 36,
     "metadata": {},
     "output_type": "execute_result"
    }
   ],
   "source": [
    "df_indcont.head()"
   ]
  },
  {
   "cell_type": "code",
   "execution_count": null,
   "id": "34acb6d9",
   "metadata": {},
   "outputs": [],
   "source": []
  }
 ],
 "metadata": {
  "kernelspec": {
   "display_name": "Python 3 (ipykernel)",
   "language": "python",
   "name": "python3"
  },
  "language_info": {
   "codemirror_mode": {
    "name": "ipython",
    "version": 3
   },
   "file_extension": ".py",
   "mimetype": "text/x-python",
   "name": "python",
   "nbconvert_exporter": "python",
   "pygments_lexer": "ipython3",
   "version": "3.7.13"
  }
 },
 "nbformat": 4,
 "nbformat_minor": 5
}
